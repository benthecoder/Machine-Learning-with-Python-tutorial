{
 "cells": [
  {
   "cell_type": "markdown",
   "metadata": {},
   "source": [
    "# Importing Packages\n",
    "## Pandas, Numpy and Scikit-Learn"
   ]
  },
  {
   "cell_type": "code",
   "execution_count": 13,
   "metadata": {},
   "outputs": [],
   "source": [
    "import pandas as pd\n",
    "import numpy as np\n",
    "import sklearn as sk\n",
    "from sklearn import linear_model\n",
    "from sklearn.utils import shuffle"
   ]
  },
  {
   "cell_type": "markdown",
   "metadata": {},
   "source": [
    "# Load the data set\n",
    "## Use pandas module to load the data set"
   ]
  },
  {
   "cell_type": "code",
   "execution_count": 14,
   "metadata": {},
   "outputs": [],
   "source": [
    "data = pd.read_csv(\"student-mat.csv\", sep=\";\")"
   ]
  },
  {
   "cell_type": "markdown",
   "metadata": {},
   "source": [
    "## Show the data frame\n",
    "### First 5 rows(students)"
   ]
  },
  {
   "cell_type": "code",
   "execution_count": 15,
   "metadata": {},
   "outputs": [
    {
     "name": "stdout",
     "output_type": "stream",
     "text": [
      "  school sex  age address famsize Pstatus  Medu  Fedu     Mjob      Fjob  ...  \\\n",
      "0     GP   F   18       U     GT3       A     4     4  at_home   teacher  ...   \n",
      "1     GP   F   17       U     GT3       T     1     1  at_home     other  ...   \n",
      "2     GP   F   15       U     LE3       T     1     1  at_home     other  ...   \n",
      "3     GP   F   15       U     GT3       T     4     2   health  services  ...   \n",
      "4     GP   F   16       U     GT3       T     3     3    other     other  ...   \n",
      "\n",
      "  famrel freetime  goout  Dalc  Walc health absences  G1  G2  G3  \n",
      "0      4        3      4     1     1      3        6   5   6   6  \n",
      "1      5        3      3     1     1      3        4   5   5   6  \n",
      "2      4        3      2     2     3      3       10   7   8  10  \n",
      "3      3        2      2     1     1      5        2  15  14  15  \n",
      "4      4        3      2     1     2      5        4   6  10  10  \n",
      "\n",
      "[5 rows x 33 columns]\n"
     ]
    }
   ],
   "source": [
    "print(data.head())"
   ]
  },
  {
   "cell_type": "markdown",
   "metadata": {},
   "source": [
    "# Trim the data\n",
    "### To show important attributes that are used and remove irrelevant ones \n",
    "#### Here we trim our data into 6 attributes"
   ]
  },
  {
   "cell_type": "code",
   "execution_count": 16,
   "metadata": {},
   "outputs": [
    {
     "name": "stdout",
     "output_type": "stream",
     "text": [
      "   G1  G2  G3  studytime  failures  absences\n",
      "0   5   6   6          2         0         6\n",
      "1   5   5   6          2         0         4\n",
      "2   7   8  10          2         3        10\n",
      "3  15  14  15          3         0         2\n",
      "4   6  10  10          2         0         4\n"
     ]
    }
   ],
   "source": [
    "data = data[[\"G1\", \"G2\", \"G3\", \"studytime\", \"failures\", \"absences\"]]\n",
    "print(data.head())"
   ]
  },
  {
   "cell_type": "markdown",
   "metadata": {},
   "source": [
    "# Seperate data into 4 arrays\n",
    "\n",
    "#### Define the attribute we are predicting. In this case, it is G3. This attribute, is known as the *label*."
   ]
  },
  {
   "cell_type": "code",
   "execution_count": 17,
   "metadata": {},
   "outputs": [],
   "source": [
    "predict = \"G3\" # the label"
   ]
  },
  {
   "cell_type": "markdown",
   "metadata": {},
   "source": [
    "#### Other attributes in the data frame are used to determine our labels, and are known as *features*.  Numpy module is used to seperate data into two arrays, one with features, the other with labels."
   ]
  },
  {
   "cell_type": "code",
   "execution_count": 23,
   "metadata": {},
   "outputs": [],
   "source": [
    "x = np.array(data.drop([predict], 1))  # features\n",
    "y = np.array(data[predict])  # label(s)"
   ]
  },
  {
   "cell_type": "markdown",
   "metadata": {},
   "source": [
    "## Split data into testing and training data \n",
    "#### Here, 80% of data is used to train while the 20% is for testing (validation).  This highly depends on the amount of data you have. The bigger the data set, the bigger the validation set can be.\n",
    "\n",
    "#### We do this so that the model does not test data on data it has already seen (memorized), which will make the prediction inaccurate. "
   ]
  },
  {
   "cell_type": "code",
   "execution_count": 55,
   "metadata": {},
   "outputs": [],
   "source": [
    "x_train, x_test, y_train, y_test = sklearn.model_selection.train_test_split(x, y, test_size=0.1)  # 10% test size"
   ]
  },
  {
   "cell_type": "markdown",
   "metadata": {},
   "source": [
    "# 1. Linear Regression Algorithm"
   ]
  },
  {
   "cell_type": "markdown",
   "metadata": {},
   "source": [
    "#### Linear regression is essentialy an algorithm that creates a best fit line through data points in a model"
   ]
  },
  {
   "cell_type": "markdown",
   "metadata": {},
   "source": [
    "## Implementing the algorithm"
   ]
  },
  {
   "cell_type": "code",
   "execution_count": 56,
   "metadata": {},
   "outputs": [],
   "source": [
    "linear = linear_model.LinearRegression()"
   ]
  },
  {
   "cell_type": "markdown",
   "metadata": {},
   "source": [
    "### Training and scoring the model"
   ]
  },
  {
   "cell_type": "code",
   "execution_count": 57,
   "metadata": {},
   "outputs": [
    {
     "name": "stdout",
     "output_type": "stream",
     "text": [
      "0.9170672638971288\n"
     ]
    }
   ],
   "source": [
    "linear.fit(x_train, y_train)  # fitting algorithm onto test set (training)\n",
    "acc = linear.score(x_test, y_test)  # scoring the model\n",
    "print(acc)  # score will vary as it is random"
   ]
  },
  {
   "cell_type": "markdown",
   "metadata": {},
   "source": [
    "## Viewing the constants\n",
    "#### showing the linear regression line slope values and intercept. 5 slope values (weights) corresponds to a 5 dimension space graph."
   ]
  },
  {
   "cell_type": "code",
   "execution_count": 60,
   "metadata": {},
   "outputs": [
    {
     "name": "stdout",
     "output_type": "stream",
     "text": [
      "Coefficients:  [ 0.15529918  0.9839866  -0.20981952 -0.32538579  0.03787158]\n",
      "Intercepts:  -1.5385664814951987\n"
     ]
    }
   ],
   "source": [
    "print('Coefficients: ', linear.coef_)  # slope of values\n",
    "print('Intercepts: ', linear.intercept_)  # intercept"
   ]
  },
  {
   "cell_type": "markdown",
   "metadata": {},
   "source": [
    "# Predicting a students test score"
   ]
  },
  {
   "cell_type": "markdown",
   "metadata": {},
   "source": [
    "#### After seeing the score of the algorithm, its time to use the algorithm to perform predictions."
   ]
  },
  {
   "cell_type": "code",
   "execution_count": 66,
   "metadata": {},
   "outputs": [
    {
     "name": "stdout",
     "output_type": "stream",
     "text": [
      "8 [8 9 2 0 2] 8\n",
      "9 [11 10  2  0  0] 10\n",
      "12 [12 13  2  0  2] 12\n",
      "5 [7 7 3 0 0] 8\n",
      "12 [13 13  2  0  2] 11\n",
      "15 [16 15  2  0  2] 15\n",
      "9 [ 9 10  3  0  9] 9\n",
      "12 [11 13  2  0  2] 14\n",
      "0 [12  0  3  2  0] 0\n",
      "6 [ 7  8  2  3 10] 10\n",
      "7 [10  8  2  0 10] 8\n",
      "8 [10  9  3  1 28] 9\n",
      "15 [16 15  4  0  7] 17\n",
      "19 [18 18  1  0  8] 18\n",
      "18 [18 18  1  0  6] 18\n",
      "7 [10  8  2  0 14] 9\n",
      "18 [18 18  3  0  5] 19\n",
      "15 [14 16  3  0  0] 16\n",
      "14 [13 14  1  0  0] 13\n",
      "8 [ 6 10  2  0  4] 10\n",
      "12 [12 12  1  0  4] 13\n",
      "9 [11 10  1  0  0] 10\n",
      "8 [9 9 2 0 4] 10\n",
      "19 [17 18  2  0 21] 18\n",
      "10 [13 10  2  1 22] 11\n",
      "4 [ 6  5  1  1 14] 5\n",
      "13 [13 13  2  0 23] 13\n",
      "12 [14 12  2  1  8] 12\n",
      "4 [ 6  5  1  0 14] 5\n",
      "12 [12 13  1  1  6] 14\n",
      "14 [14 14  1  0  2] 14\n",
      "10 [11 11  2  0  4] 11\n",
      "11 [13 12  3  0  6] 12\n",
      "8 [10  9  2  0  0] 9\n",
      "16 [17 16  2  0  0] 17\n",
      "13 [12 13  2  0 14] 12\n",
      "6 [8 7 1 1 7] 8\n",
      "9 [ 8 10  2  0  6] 10\n",
      "7 [8 8 2 0 0] 9\n",
      "12 [14 12  2  0 20] 13\n"
     ]
    }
   ],
   "source": [
    "score_prediction = linear.predict(x_test)  # Gets the list of all the predictions\n",
    "for x in range(len(score_prediction)):  # a for loop to loop over list of predictions\n",
    "    print(int(score_prediction[x]), x_test[x], y_test[x])"
   ]
  },
  {
   "cell_type": "code",
   "execution_count": null,
   "metadata": {},
   "outputs": [],
   "source": []
  }
 ],
 "metadata": {
  "kernelspec": {
   "display_name": "Python 3",
   "language": "python",
   "name": "python3"
  },
  "language_info": {
   "codemirror_mode": {
    "name": "ipython",
    "version": 3
   },
   "file_extension": ".py",
   "mimetype": "text/x-python",
   "name": "python",
   "nbconvert_exporter": "python",
   "pygments_lexer": "ipython3",
   "version": "3.6.9"
  }
 },
 "nbformat": 4,
 "nbformat_minor": 2
}
